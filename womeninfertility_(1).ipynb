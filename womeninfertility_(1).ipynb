{
 "cells": [
  {
   "cell_type": "markdown",
   "id": "7b92329c",
   "metadata": {
    "id": "7b92329c"
   },
   "source": [
    "  \n",
    "<h1 style='background-color: #6495ED; font-family:newtimeroman; font-size:300%; text-align:center; border-radius: 15px 50px;' > WOMEN INFERTILITY</h1>"
   ]
  },
  {
   "cell_type": "markdown",
   "id": "220f4bd2",
   "metadata": {
    "id": "220f4bd2"
   },
   "source": [
    "## IMPORTING LIBRARIES"
   ]
  },
  {
   "cell_type": "code",
   "execution_count": 1,
   "id": "4da158b2",
   "metadata": {
    "id": "4da158b2",
    "scrolled": true
   },
   "outputs": [],
   "source": [
    "import pandas as pd  #IMPORTING PANDAS\n",
    "import numpy as np   #IMPORTING NUMPY\n",
    "import matplotlib.pyplot as plt#IMPORTING MATHPLOT LIB FOR DATAVISULIZATION\n",
    "%matplotlib inline\n",
    "import seaborn as sns              #IMPORTING SEABORN FOR DATAVISULIZATION\n",
    "\n"
   ]
  },
  {
   "cell_type": "markdown",
   "id": "911bb379",
   "metadata": {
    "id": "911bb379"
   },
   "source": [
    "## Load Dataset\n"
   ]
  },
  {
   "cell_type": "code",
   "execution_count": 2,
   "id": "2f081a96",
   "metadata": {},
   "outputs": [],
   "source": [
    "import warnings\n",
    "warnings.filterwarnings(\"ignore\")"
   ]
  },
  {
   "cell_type": "code",
   "execution_count": 3,
   "id": "ecbf63cc",
   "metadata": {
    "id": "ecbf63cc"
   },
   "outputs": [],
   "source": [
    "without_infertility= 'PCOS_data_without_infertility.xlsx'\n",
    "\n",
    "\n",
    "df1 = pd.read_csv('PCOS_infertility.csv')\n",
    "df2 = pd.read_excel(without_infertility, sheet_name='Full_new')"
   ]
  },
  {
   "cell_type": "code",
   "execution_count": 4,
   "id": "68eaf7a9",
   "metadata": {
    "colab": {
     "base_uri": "https://localhost:8080/",
     "height": 206
    },
    "id": "68eaf7a9",
    "outputId": "d26279e7-fe81-45f3-f118-14161c112dfd"
   },
   "outputs": [
    {
     "data": {
      "text/html": [
       "<div>\n",
       "<style scoped>\n",
       "    .dataframe tbody tr th:only-of-type {\n",
       "        vertical-align: middle;\n",
       "    }\n",
       "\n",
       "    .dataframe tbody tr th {\n",
       "        vertical-align: top;\n",
       "    }\n",
       "\n",
       "    .dataframe thead th {\n",
       "        text-align: right;\n",
       "    }\n",
       "</style>\n",
       "<table border=\"1\" class=\"dataframe\">\n",
       "  <thead>\n",
       "    <tr style=\"text-align: right;\">\n",
       "      <th></th>\n",
       "      <th>Sl. No</th>\n",
       "      <th>Patient File No.</th>\n",
       "      <th>PCOS (Y/N)</th>\n",
       "      <th>I   beta-HCG(mIU/mL)</th>\n",
       "      <th>II    beta-HCG(mIU/mL)</th>\n",
       "      <th>AMH(ng/mL)</th>\n",
       "    </tr>\n",
       "  </thead>\n",
       "  <tbody>\n",
       "    <tr>\n",
       "      <th>0</th>\n",
       "      <td>1</td>\n",
       "      <td>10001</td>\n",
       "      <td>0</td>\n",
       "      <td>1.99</td>\n",
       "      <td>1.99</td>\n",
       "      <td>2.07</td>\n",
       "    </tr>\n",
       "    <tr>\n",
       "      <th>1</th>\n",
       "      <td>2</td>\n",
       "      <td>10002</td>\n",
       "      <td>0</td>\n",
       "      <td>60.80</td>\n",
       "      <td>1.99</td>\n",
       "      <td>1.53</td>\n",
       "    </tr>\n",
       "    <tr>\n",
       "      <th>2</th>\n",
       "      <td>3</td>\n",
       "      <td>10003</td>\n",
       "      <td>1</td>\n",
       "      <td>494.08</td>\n",
       "      <td>494.08</td>\n",
       "      <td>6.63</td>\n",
       "    </tr>\n",
       "    <tr>\n",
       "      <th>3</th>\n",
       "      <td>4</td>\n",
       "      <td>10004</td>\n",
       "      <td>0</td>\n",
       "      <td>1.99</td>\n",
       "      <td>1.99</td>\n",
       "      <td>1.22</td>\n",
       "    </tr>\n",
       "    <tr>\n",
       "      <th>4</th>\n",
       "      <td>5</td>\n",
       "      <td>10005</td>\n",
       "      <td>0</td>\n",
       "      <td>801.45</td>\n",
       "      <td>801.45</td>\n",
       "      <td>2.26</td>\n",
       "    </tr>\n",
       "  </tbody>\n",
       "</table>\n",
       "</div>"
      ],
      "text/plain": [
       "   Sl. No  Patient File No.  PCOS (Y/N)    I   beta-HCG(mIU/mL)  \\\n",
       "0       1             10001           0                    1.99   \n",
       "1       2             10002           0                   60.80   \n",
       "2       3             10003           1                  494.08   \n",
       "3       4             10004           0                    1.99   \n",
       "4       5             10005           0                  801.45   \n",
       "\n",
       "   II    beta-HCG(mIU/mL) AMH(ng/mL)  \n",
       "0                    1.99       2.07  \n",
       "1                    1.99       1.53  \n",
       "2                  494.08       6.63  \n",
       "3                    1.99       1.22  \n",
       "4                  801.45       2.26  "
      ]
     },
     "execution_count": 4,
     "metadata": {},
     "output_type": "execute_result"
    }
   ],
   "source": [
    "df1.head()"
   ]
  },
  {
   "cell_type": "code",
   "execution_count": 5,
   "id": "60f1181e",
   "metadata": {
    "colab": {
     "base_uri": "https://localhost:8080/",
     "height": 557
    },
    "id": "60f1181e",
    "outputId": "4a40d676-7bce-4d25-ef4b-dc5f24c9c942"
   },
   "outputs": [
    {
     "data": {
      "text/html": [
       "<div>\n",
       "<style scoped>\n",
       "    .dataframe tbody tr th:only-of-type {\n",
       "        vertical-align: middle;\n",
       "    }\n",
       "\n",
       "    .dataframe tbody tr th {\n",
       "        vertical-align: top;\n",
       "    }\n",
       "\n",
       "    .dataframe thead th {\n",
       "        text-align: right;\n",
       "    }\n",
       "</style>\n",
       "<table border=\"1\" class=\"dataframe\">\n",
       "  <thead>\n",
       "    <tr style=\"text-align: right;\">\n",
       "      <th></th>\n",
       "      <th>Sl. No</th>\n",
       "      <th>Patient File No.</th>\n",
       "      <th>PCOS (Y/N)</th>\n",
       "      <th>Age (yrs)</th>\n",
       "      <th>Weight (Kg)</th>\n",
       "      <th>Height(Cm)</th>\n",
       "      <th>BMI</th>\n",
       "      <th>Blood Group</th>\n",
       "      <th>Pulse rate(bpm)</th>\n",
       "      <th>RR (breaths/min)</th>\n",
       "      <th>...</th>\n",
       "      <th>Fast food (Y/N)</th>\n",
       "      <th>Reg.Exercise(Y/N)</th>\n",
       "      <th>BP _Systolic (mmHg)</th>\n",
       "      <th>BP _Diastolic (mmHg)</th>\n",
       "      <th>Follicle No. (L)</th>\n",
       "      <th>Follicle No. (R)</th>\n",
       "      <th>Avg. F size (L) (mm)</th>\n",
       "      <th>Avg. F size (R) (mm)</th>\n",
       "      <th>Endometrium (mm)</th>\n",
       "      <th>Unnamed: 44</th>\n",
       "    </tr>\n",
       "  </thead>\n",
       "  <tbody>\n",
       "    <tr>\n",
       "      <th>0</th>\n",
       "      <td>1.0</td>\n",
       "      <td>1.0</td>\n",
       "      <td>0.0</td>\n",
       "      <td>28.0</td>\n",
       "      <td>44.6</td>\n",
       "      <td>152.000</td>\n",
       "      <td>19.300000</td>\n",
       "      <td>15.0</td>\n",
       "      <td>78.0</td>\n",
       "      <td>22.0</td>\n",
       "      <td>...</td>\n",
       "      <td>1.0</td>\n",
       "      <td>0.0</td>\n",
       "      <td>110.0</td>\n",
       "      <td>80.0</td>\n",
       "      <td>3.0</td>\n",
       "      <td>3.0</td>\n",
       "      <td>18.0</td>\n",
       "      <td>18.0</td>\n",
       "      <td>8.5</td>\n",
       "      <td>NaN</td>\n",
       "    </tr>\n",
       "    <tr>\n",
       "      <th>1</th>\n",
       "      <td>2.0</td>\n",
       "      <td>2.0</td>\n",
       "      <td>0.0</td>\n",
       "      <td>36.0</td>\n",
       "      <td>65.0</td>\n",
       "      <td>161.500</td>\n",
       "      <td>24.921163</td>\n",
       "      <td>15.0</td>\n",
       "      <td>74.0</td>\n",
       "      <td>20.0</td>\n",
       "      <td>...</td>\n",
       "      <td>0.0</td>\n",
       "      <td>0.0</td>\n",
       "      <td>120.0</td>\n",
       "      <td>70.0</td>\n",
       "      <td>3.0</td>\n",
       "      <td>5.0</td>\n",
       "      <td>15.0</td>\n",
       "      <td>14.0</td>\n",
       "      <td>3.7</td>\n",
       "      <td>NaN</td>\n",
       "    </tr>\n",
       "    <tr>\n",
       "      <th>2</th>\n",
       "      <td>3.0</td>\n",
       "      <td>3.0</td>\n",
       "      <td>1.0</td>\n",
       "      <td>33.0</td>\n",
       "      <td>68.8</td>\n",
       "      <td>165.000</td>\n",
       "      <td>25.270891</td>\n",
       "      <td>11.0</td>\n",
       "      <td>72.0</td>\n",
       "      <td>18.0</td>\n",
       "      <td>...</td>\n",
       "      <td>1.0</td>\n",
       "      <td>0.0</td>\n",
       "      <td>120.0</td>\n",
       "      <td>80.0</td>\n",
       "      <td>13.0</td>\n",
       "      <td>15.0</td>\n",
       "      <td>18.0</td>\n",
       "      <td>20.0</td>\n",
       "      <td>10.0</td>\n",
       "      <td>NaN</td>\n",
       "    </tr>\n",
       "    <tr>\n",
       "      <th>3</th>\n",
       "      <td>4.0</td>\n",
       "      <td>4.0</td>\n",
       "      <td>0.0</td>\n",
       "      <td>37.0</td>\n",
       "      <td>65.0</td>\n",
       "      <td>148.000</td>\n",
       "      <td>29.674945</td>\n",
       "      <td>13.0</td>\n",
       "      <td>72.0</td>\n",
       "      <td>20.0</td>\n",
       "      <td>...</td>\n",
       "      <td>0.0</td>\n",
       "      <td>0.0</td>\n",
       "      <td>120.0</td>\n",
       "      <td>70.0</td>\n",
       "      <td>2.0</td>\n",
       "      <td>2.0</td>\n",
       "      <td>15.0</td>\n",
       "      <td>14.0</td>\n",
       "      <td>7.5</td>\n",
       "      <td>NaN</td>\n",
       "    </tr>\n",
       "    <tr>\n",
       "      <th>4</th>\n",
       "      <td>5.0</td>\n",
       "      <td>5.0</td>\n",
       "      <td>0.0</td>\n",
       "      <td>25.0</td>\n",
       "      <td>52.0</td>\n",
       "      <td>161.000</td>\n",
       "      <td>20.060954</td>\n",
       "      <td>11.0</td>\n",
       "      <td>72.0</td>\n",
       "      <td>18.0</td>\n",
       "      <td>...</td>\n",
       "      <td>0.0</td>\n",
       "      <td>0.0</td>\n",
       "      <td>120.0</td>\n",
       "      <td>80.0</td>\n",
       "      <td>3.0</td>\n",
       "      <td>4.0</td>\n",
       "      <td>16.0</td>\n",
       "      <td>14.0</td>\n",
       "      <td>7.0</td>\n",
       "      <td>NaN</td>\n",
       "    </tr>\n",
       "    <tr>\n",
       "      <th>...</th>\n",
       "      <td>...</td>\n",
       "      <td>...</td>\n",
       "      <td>...</td>\n",
       "      <td>...</td>\n",
       "      <td>...</td>\n",
       "      <td>...</td>\n",
       "      <td>...</td>\n",
       "      <td>...</td>\n",
       "      <td>...</td>\n",
       "      <td>...</td>\n",
       "      <td>...</td>\n",
       "      <td>...</td>\n",
       "      <td>...</td>\n",
       "      <td>...</td>\n",
       "      <td>...</td>\n",
       "      <td>...</td>\n",
       "      <td>...</td>\n",
       "      <td>...</td>\n",
       "      <td>...</td>\n",
       "      <td>...</td>\n",
       "      <td>...</td>\n",
       "    </tr>\n",
       "    <tr>\n",
       "      <th>536</th>\n",
       "      <td>537.0</td>\n",
       "      <td>537.0</td>\n",
       "      <td>0.0</td>\n",
       "      <td>35.0</td>\n",
       "      <td>50.0</td>\n",
       "      <td>164.592</td>\n",
       "      <td>18.500000</td>\n",
       "      <td>17.0</td>\n",
       "      <td>72.0</td>\n",
       "      <td>16.0</td>\n",
       "      <td>...</td>\n",
       "      <td>0.0</td>\n",
       "      <td>0.0</td>\n",
       "      <td>110.0</td>\n",
       "      <td>70.0</td>\n",
       "      <td>1.0</td>\n",
       "      <td>0.0</td>\n",
       "      <td>17.5</td>\n",
       "      <td>10.0</td>\n",
       "      <td>6.7</td>\n",
       "      <td>NaN</td>\n",
       "    </tr>\n",
       "    <tr>\n",
       "      <th>537</th>\n",
       "      <td>538.0</td>\n",
       "      <td>538.0</td>\n",
       "      <td>0.0</td>\n",
       "      <td>30.0</td>\n",
       "      <td>63.2</td>\n",
       "      <td>158.000</td>\n",
       "      <td>25.300000</td>\n",
       "      <td>15.0</td>\n",
       "      <td>72.0</td>\n",
       "      <td>18.0</td>\n",
       "      <td>...</td>\n",
       "      <td>0.0</td>\n",
       "      <td>0.0</td>\n",
       "      <td>110.0</td>\n",
       "      <td>70.0</td>\n",
       "      <td>9.0</td>\n",
       "      <td>7.0</td>\n",
       "      <td>19.0</td>\n",
       "      <td>18.0</td>\n",
       "      <td>8.2</td>\n",
       "      <td>NaN</td>\n",
       "    </tr>\n",
       "    <tr>\n",
       "      <th>538</th>\n",
       "      <td>539.0</td>\n",
       "      <td>539.0</td>\n",
       "      <td>0.0</td>\n",
       "      <td>36.0</td>\n",
       "      <td>54.0</td>\n",
       "      <td>152.000</td>\n",
       "      <td>23.400000</td>\n",
       "      <td>13.0</td>\n",
       "      <td>74.0</td>\n",
       "      <td>20.0</td>\n",
       "      <td>...</td>\n",
       "      <td>0.0</td>\n",
       "      <td>0.0</td>\n",
       "      <td>110.0</td>\n",
       "      <td>80.0</td>\n",
       "      <td>1.0</td>\n",
       "      <td>0.0</td>\n",
       "      <td>18.0</td>\n",
       "      <td>9.0</td>\n",
       "      <td>7.3</td>\n",
       "      <td>NaN</td>\n",
       "    </tr>\n",
       "    <tr>\n",
       "      <th>539</th>\n",
       "      <td>540.0</td>\n",
       "      <td>540.0</td>\n",
       "      <td>0.0</td>\n",
       "      <td>27.0</td>\n",
       "      <td>50.0</td>\n",
       "      <td>150.000</td>\n",
       "      <td>22.200000</td>\n",
       "      <td>15.0</td>\n",
       "      <td>74.0</td>\n",
       "      <td>20.0</td>\n",
       "      <td>...</td>\n",
       "      <td>0.0</td>\n",
       "      <td>0.0</td>\n",
       "      <td>110.0</td>\n",
       "      <td>70.0</td>\n",
       "      <td>7.0</td>\n",
       "      <td>6.0</td>\n",
       "      <td>18.0</td>\n",
       "      <td>16.0</td>\n",
       "      <td>11.5</td>\n",
       "      <td>NaN</td>\n",
       "    </tr>\n",
       "    <tr>\n",
       "      <th>540</th>\n",
       "      <td>541.0</td>\n",
       "      <td>541.0</td>\n",
       "      <td>1.0</td>\n",
       "      <td>23.0</td>\n",
       "      <td>82.0</td>\n",
       "      <td>165.000</td>\n",
       "      <td>30.100000</td>\n",
       "      <td>13.0</td>\n",
       "      <td>80.0</td>\n",
       "      <td>20.0</td>\n",
       "      <td>...</td>\n",
       "      <td>1.0</td>\n",
       "      <td>0.0</td>\n",
       "      <td>120.0</td>\n",
       "      <td>70.0</td>\n",
       "      <td>9.0</td>\n",
       "      <td>10.0</td>\n",
       "      <td>19.0</td>\n",
       "      <td>18.0</td>\n",
       "      <td>6.9</td>\n",
       "      <td>NaN</td>\n",
       "    </tr>\n",
       "  </tbody>\n",
       "</table>\n",
       "<p>541 rows × 45 columns</p>\n",
       "</div>"
      ],
      "text/plain": [
       "     Sl. No  Patient File No.  PCOS (Y/N)   Age (yrs)  Weight (Kg)  \\\n",
       "0       1.0               1.0         0.0        28.0         44.6   \n",
       "1       2.0               2.0         0.0        36.0         65.0   \n",
       "2       3.0               3.0         1.0        33.0         68.8   \n",
       "3       4.0               4.0         0.0        37.0         65.0   \n",
       "4       5.0               5.0         0.0        25.0         52.0   \n",
       "..      ...               ...         ...         ...          ...   \n",
       "536   537.0             537.0         0.0        35.0         50.0   \n",
       "537   538.0             538.0         0.0        30.0         63.2   \n",
       "538   539.0             539.0         0.0        36.0         54.0   \n",
       "539   540.0             540.0         0.0        27.0         50.0   \n",
       "540   541.0             541.0         1.0        23.0         82.0   \n",
       "\n",
       "     Height(Cm)         BMI  Blood Group  Pulse rate(bpm)   RR (breaths/min)  \\\n",
       "0        152.000  19.300000         15.0              78.0              22.0   \n",
       "1        161.500  24.921163         15.0              74.0              20.0   \n",
       "2        165.000  25.270891         11.0              72.0              18.0   \n",
       "3        148.000  29.674945         13.0              72.0              20.0   \n",
       "4        161.000  20.060954         11.0              72.0              18.0   \n",
       "..           ...        ...          ...               ...               ...   \n",
       "536      164.592  18.500000         17.0              72.0              16.0   \n",
       "537      158.000  25.300000         15.0              72.0              18.0   \n",
       "538      152.000  23.400000         13.0              74.0              20.0   \n",
       "539      150.000  22.200000         15.0              74.0              20.0   \n",
       "540      165.000  30.100000         13.0              80.0              20.0   \n",
       "\n",
       "     ...  Fast food (Y/N)  Reg.Exercise(Y/N)  BP _Systolic (mmHg)  \\\n",
       "0    ...              1.0                0.0                110.0   \n",
       "1    ...              0.0                0.0                120.0   \n",
       "2    ...              1.0                0.0                120.0   \n",
       "3    ...              0.0                0.0                120.0   \n",
       "4    ...              0.0                0.0                120.0   \n",
       "..   ...              ...                ...                  ...   \n",
       "536  ...              0.0                0.0                110.0   \n",
       "537  ...              0.0                0.0                110.0   \n",
       "538  ...              0.0                0.0                110.0   \n",
       "539  ...              0.0                0.0                110.0   \n",
       "540  ...              1.0                0.0                120.0   \n",
       "\n",
       "     BP _Diastolic (mmHg)  Follicle No. (L)  Follicle No. (R)  \\\n",
       "0                    80.0               3.0               3.0   \n",
       "1                    70.0               3.0               5.0   \n",
       "2                    80.0              13.0              15.0   \n",
       "3                    70.0               2.0               2.0   \n",
       "4                    80.0               3.0               4.0   \n",
       "..                    ...               ...               ...   \n",
       "536                  70.0               1.0               0.0   \n",
       "537                  70.0               9.0               7.0   \n",
       "538                  80.0               1.0               0.0   \n",
       "539                  70.0               7.0               6.0   \n",
       "540                  70.0               9.0              10.0   \n",
       "\n",
       "     Avg. F size (L) (mm) Avg. F size (R) (mm)  Endometrium (mm)  Unnamed: 44  \n",
       "0                    18.0                 18.0               8.5          NaN  \n",
       "1                    15.0                 14.0               3.7          NaN  \n",
       "2                    18.0                 20.0              10.0          NaN  \n",
       "3                    15.0                 14.0               7.5          NaN  \n",
       "4                    16.0                 14.0               7.0          NaN  \n",
       "..                    ...                  ...               ...          ...  \n",
       "536                  17.5                 10.0               6.7          NaN  \n",
       "537                  19.0                 18.0               8.2          NaN  \n",
       "538                  18.0                  9.0               7.3          NaN  \n",
       "539                  18.0                 16.0              11.5          NaN  \n",
       "540                  19.0                 18.0               6.9          NaN  \n",
       "\n",
       "[541 rows x 45 columns]"
      ]
     },
     "execution_count": 5,
     "metadata": {},
     "output_type": "execute_result"
    }
   ],
   "source": [
    "df2"
   ]
  },
  {
   "cell_type": "markdown",
   "id": "90cfa0ab",
   "metadata": {
    "id": "90cfa0ab"
   },
   "source": [
    "## Data preprocessing"
   ]
  },
  {
   "cell_type": "code",
   "execution_count": 6,
   "id": "bfff00d6",
   "metadata": {
    "colab": {
     "base_uri": "https://localhost:8080/"
    },
    "id": "bfff00d6",
    "outputId": "461e71a5-fdcd-4e8d-d2fe-92e4dcecc4c9"
   },
   "outputs": [
    {
     "data": {
      "text/plain": [
       "Index(['Sl. No', 'Patient File No.', 'PCOS (Y/N)', ' Age (yrs)', 'Weight (Kg)',\n",
       "       'Height(Cm) ', 'BMI', 'Blood Group', 'Pulse rate(bpm) ',\n",
       "       'RR (breaths/min)', 'Hb(g/dl)', 'Cycle(R/I)', 'Cycle length(days)',\n",
       "       'Marraige Status (Yrs)', 'Pregnant(Y/N)', 'No. of aborptions',\n",
       "       '  I   beta-HCG(mIU/mL)', 'II    beta-HCG(mIU/mL)', 'FSH(mIU/mL)',\n",
       "       'LH(mIU/mL)', 'FSH/LH', 'Hip(inch)', 'Waist(inch)', 'Waist:Hip Ratio',\n",
       "       'TSH (mIU/L)', 'AMH(ng/mL)', 'PRL(ng/mL)', 'Vit D3 (ng/mL)',\n",
       "       'PRG(ng/mL)', 'RBS(mg/dl)', 'Weight gain(Y/N)', 'hair growth(Y/N)',\n",
       "       'Skin darkening (Y/N)', 'Hair loss(Y/N)', 'Pimples(Y/N)',\n",
       "       'Fast food (Y/N)', 'Reg.Exercise(Y/N)', 'BP _Systolic (mmHg)',\n",
       "       'BP _Diastolic (mmHg)', 'Follicle No. (L)', 'Follicle No. (R)',\n",
       "       'Avg. F size (L) (mm)', 'Avg. F size (R) (mm)', 'Endometrium (mm)',\n",
       "       'Unnamed: 44'],\n",
       "      dtype='object')"
      ]
     },
     "execution_count": 6,
     "metadata": {},
     "output_type": "execute_result"
    }
   ],
   "source": [
    "df2.columns"
   ]
  },
  {
   "cell_type": "code",
   "execution_count": 7,
   "id": "a9bf2f47",
   "metadata": {
    "colab": {
     "base_uri": "https://localhost:8080/"
    },
    "id": "a9bf2f47",
    "outputId": "c8567d58-ce5e-4463-c680-c425f1145f8a"
   },
   "outputs": [
    {
     "data": {
      "text/plain": [
       "(541, 45)"
      ]
     },
     "execution_count": 7,
     "metadata": {},
     "output_type": "execute_result"
    }
   ],
   "source": [
    "df2.shape"
   ]
  },
  {
   "cell_type": "code",
   "execution_count": 8,
   "id": "e7ee0867",
   "metadata": {
    "colab": {
     "base_uri": "https://localhost:8080/"
    },
    "id": "e7ee0867",
    "outputId": "3c022f35-149c-46d3-d068-4be1ab903478"
   },
   "outputs": [
    {
     "data": {
      "text/plain": [
       "Index(['Sl. No', 'Patient File No.', 'PCOS (Y/N)', '  I   beta-HCG(mIU/mL)',\n",
       "       'II    beta-HCG(mIU/mL)', 'AMH(ng/mL)'],\n",
       "      dtype='object')"
      ]
     },
     "execution_count": 8,
     "metadata": {},
     "output_type": "execute_result"
    }
   ],
   "source": [
    "df1.columns"
   ]
  },
  {
   "cell_type": "code",
   "execution_count": 9,
   "id": "c298fbbe",
   "metadata": {
    "colab": {
     "base_uri": "https://localhost:8080/"
    },
    "id": "c298fbbe",
    "outputId": "33778e11-f2b8-4f00-f3ac-469c287754b0"
   },
   "outputs": [
    {
     "data": {
      "text/plain": [
       "(541, 6)"
      ]
     },
     "execution_count": 9,
     "metadata": {},
     "output_type": "execute_result"
    }
   ],
   "source": [
    "df1.shape"
   ]
  },
  {
   "cell_type": "markdown",
   "id": "7c61a912",
   "metadata": {
    "id": "7c61a912"
   },
   "source": [
    "## merge datasets"
   ]
  },
  {
   "cell_type": "code",
   "execution_count": 10,
   "id": "97bb1f05",
   "metadata": {
    "colab": {
     "base_uri": "https://localhost:8080/"
    },
    "id": "97bb1f05",
    "outputId": "031c840c-d362-4c5f-ba63-14bc9f8adea1"
   },
   "outputs": [],
   "source": [
    "data = pd.merge(df2,df1, on='Patient File No.', suffixes={'','_y'},how='left')\n"
   ]
  },
  {
   "cell_type": "code",
   "execution_count": 11,
   "id": "364cf845",
   "metadata": {
    "colab": {
     "base_uri": "https://localhost:8080/",
     "height": 557
    },
    "id": "364cf845",
    "outputId": "547f7ab6-c62d-4a46-e718-51cc1b142832"
   },
   "outputs": [
    {
     "data": {
      "text/html": [
       "<div>\n",
       "<style scoped>\n",
       "    .dataframe tbody tr th:only-of-type {\n",
       "        vertical-align: middle;\n",
       "    }\n",
       "\n",
       "    .dataframe tbody tr th {\n",
       "        vertical-align: top;\n",
       "    }\n",
       "\n",
       "    .dataframe thead th {\n",
       "        text-align: right;\n",
       "    }\n",
       "</style>\n",
       "<table border=\"1\" class=\"dataframe\">\n",
       "  <thead>\n",
       "    <tr style=\"text-align: right;\">\n",
       "      <th></th>\n",
       "      <th>Sl. No</th>\n",
       "      <th>Patient File No.</th>\n",
       "      <th>PCOS (Y/N)</th>\n",
       "      <th>Age (yrs)</th>\n",
       "      <th>Weight (Kg)</th>\n",
       "      <th>Height(Cm)</th>\n",
       "      <th>BMI</th>\n",
       "      <th>Blood Group</th>\n",
       "      <th>Pulse rate(bpm)</th>\n",
       "      <th>RR (breaths/min)</th>\n",
       "      <th>...</th>\n",
       "      <th>Follicle No. (R)</th>\n",
       "      <th>Avg. F size (L) (mm)</th>\n",
       "      <th>Avg. F size (R) (mm)</th>\n",
       "      <th>Endometrium (mm)</th>\n",
       "      <th>Unnamed: 44</th>\n",
       "      <th>Sl. No_y</th>\n",
       "      <th>PCOS (Y/N)_y</th>\n",
       "      <th>I   beta-HCG(mIU/mL)_y</th>\n",
       "      <th>II    beta-HCG(mIU/mL)_y</th>\n",
       "      <th>AMH(ng/mL)_y</th>\n",
       "    </tr>\n",
       "  </thead>\n",
       "  <tbody>\n",
       "    <tr>\n",
       "      <th>0</th>\n",
       "      <td>1.0</td>\n",
       "      <td>1.0</td>\n",
       "      <td>0.0</td>\n",
       "      <td>28.0</td>\n",
       "      <td>44.6</td>\n",
       "      <td>152.000</td>\n",
       "      <td>19.300000</td>\n",
       "      <td>15.0</td>\n",
       "      <td>78.0</td>\n",
       "      <td>22.0</td>\n",
       "      <td>...</td>\n",
       "      <td>3.0</td>\n",
       "      <td>18.0</td>\n",
       "      <td>18.0</td>\n",
       "      <td>8.5</td>\n",
       "      <td>NaN</td>\n",
       "      <td>NaN</td>\n",
       "      <td>NaN</td>\n",
       "      <td>NaN</td>\n",
       "      <td>NaN</td>\n",
       "      <td>NaN</td>\n",
       "    </tr>\n",
       "    <tr>\n",
       "      <th>1</th>\n",
       "      <td>2.0</td>\n",
       "      <td>2.0</td>\n",
       "      <td>0.0</td>\n",
       "      <td>36.0</td>\n",
       "      <td>65.0</td>\n",
       "      <td>161.500</td>\n",
       "      <td>24.921163</td>\n",
       "      <td>15.0</td>\n",
       "      <td>74.0</td>\n",
       "      <td>20.0</td>\n",
       "      <td>...</td>\n",
       "      <td>5.0</td>\n",
       "      <td>15.0</td>\n",
       "      <td>14.0</td>\n",
       "      <td>3.7</td>\n",
       "      <td>NaN</td>\n",
       "      <td>NaN</td>\n",
       "      <td>NaN</td>\n",
       "      <td>NaN</td>\n",
       "      <td>NaN</td>\n",
       "      <td>NaN</td>\n",
       "    </tr>\n",
       "    <tr>\n",
       "      <th>2</th>\n",
       "      <td>3.0</td>\n",
       "      <td>3.0</td>\n",
       "      <td>1.0</td>\n",
       "      <td>33.0</td>\n",
       "      <td>68.8</td>\n",
       "      <td>165.000</td>\n",
       "      <td>25.270891</td>\n",
       "      <td>11.0</td>\n",
       "      <td>72.0</td>\n",
       "      <td>18.0</td>\n",
       "      <td>...</td>\n",
       "      <td>15.0</td>\n",
       "      <td>18.0</td>\n",
       "      <td>20.0</td>\n",
       "      <td>10.0</td>\n",
       "      <td>NaN</td>\n",
       "      <td>NaN</td>\n",
       "      <td>NaN</td>\n",
       "      <td>NaN</td>\n",
       "      <td>NaN</td>\n",
       "      <td>NaN</td>\n",
       "    </tr>\n",
       "    <tr>\n",
       "      <th>3</th>\n",
       "      <td>4.0</td>\n",
       "      <td>4.0</td>\n",
       "      <td>0.0</td>\n",
       "      <td>37.0</td>\n",
       "      <td>65.0</td>\n",
       "      <td>148.000</td>\n",
       "      <td>29.674945</td>\n",
       "      <td>13.0</td>\n",
       "      <td>72.0</td>\n",
       "      <td>20.0</td>\n",
       "      <td>...</td>\n",
       "      <td>2.0</td>\n",
       "      <td>15.0</td>\n",
       "      <td>14.0</td>\n",
       "      <td>7.5</td>\n",
       "      <td>NaN</td>\n",
       "      <td>NaN</td>\n",
       "      <td>NaN</td>\n",
       "      <td>NaN</td>\n",
       "      <td>NaN</td>\n",
       "      <td>NaN</td>\n",
       "    </tr>\n",
       "    <tr>\n",
       "      <th>4</th>\n",
       "      <td>5.0</td>\n",
       "      <td>5.0</td>\n",
       "      <td>0.0</td>\n",
       "      <td>25.0</td>\n",
       "      <td>52.0</td>\n",
       "      <td>161.000</td>\n",
       "      <td>20.060954</td>\n",
       "      <td>11.0</td>\n",
       "      <td>72.0</td>\n",
       "      <td>18.0</td>\n",
       "      <td>...</td>\n",
       "      <td>4.0</td>\n",
       "      <td>16.0</td>\n",
       "      <td>14.0</td>\n",
       "      <td>7.0</td>\n",
       "      <td>NaN</td>\n",
       "      <td>NaN</td>\n",
       "      <td>NaN</td>\n",
       "      <td>NaN</td>\n",
       "      <td>NaN</td>\n",
       "      <td>NaN</td>\n",
       "    </tr>\n",
       "    <tr>\n",
       "      <th>...</th>\n",
       "      <td>...</td>\n",
       "      <td>...</td>\n",
       "      <td>...</td>\n",
       "      <td>...</td>\n",
       "      <td>...</td>\n",
       "      <td>...</td>\n",
       "      <td>...</td>\n",
       "      <td>...</td>\n",
       "      <td>...</td>\n",
       "      <td>...</td>\n",
       "      <td>...</td>\n",
       "      <td>...</td>\n",
       "      <td>...</td>\n",
       "      <td>...</td>\n",
       "      <td>...</td>\n",
       "      <td>...</td>\n",
       "      <td>...</td>\n",
       "      <td>...</td>\n",
       "      <td>...</td>\n",
       "      <td>...</td>\n",
       "      <td>...</td>\n",
       "    </tr>\n",
       "    <tr>\n",
       "      <th>536</th>\n",
       "      <td>537.0</td>\n",
       "      <td>537.0</td>\n",
       "      <td>0.0</td>\n",
       "      <td>35.0</td>\n",
       "      <td>50.0</td>\n",
       "      <td>164.592</td>\n",
       "      <td>18.500000</td>\n",
       "      <td>17.0</td>\n",
       "      <td>72.0</td>\n",
       "      <td>16.0</td>\n",
       "      <td>...</td>\n",
       "      <td>0.0</td>\n",
       "      <td>17.5</td>\n",
       "      <td>10.0</td>\n",
       "      <td>6.7</td>\n",
       "      <td>NaN</td>\n",
       "      <td>NaN</td>\n",
       "      <td>NaN</td>\n",
       "      <td>NaN</td>\n",
       "      <td>NaN</td>\n",
       "      <td>NaN</td>\n",
       "    </tr>\n",
       "    <tr>\n",
       "      <th>537</th>\n",
       "      <td>538.0</td>\n",
       "      <td>538.0</td>\n",
       "      <td>0.0</td>\n",
       "      <td>30.0</td>\n",
       "      <td>63.2</td>\n",
       "      <td>158.000</td>\n",
       "      <td>25.300000</td>\n",
       "      <td>15.0</td>\n",
       "      <td>72.0</td>\n",
       "      <td>18.0</td>\n",
       "      <td>...</td>\n",
       "      <td>7.0</td>\n",
       "      <td>19.0</td>\n",
       "      <td>18.0</td>\n",
       "      <td>8.2</td>\n",
       "      <td>NaN</td>\n",
       "      <td>NaN</td>\n",
       "      <td>NaN</td>\n",
       "      <td>NaN</td>\n",
       "      <td>NaN</td>\n",
       "      <td>NaN</td>\n",
       "    </tr>\n",
       "    <tr>\n",
       "      <th>538</th>\n",
       "      <td>539.0</td>\n",
       "      <td>539.0</td>\n",
       "      <td>0.0</td>\n",
       "      <td>36.0</td>\n",
       "      <td>54.0</td>\n",
       "      <td>152.000</td>\n",
       "      <td>23.400000</td>\n",
       "      <td>13.0</td>\n",
       "      <td>74.0</td>\n",
       "      <td>20.0</td>\n",
       "      <td>...</td>\n",
       "      <td>0.0</td>\n",
       "      <td>18.0</td>\n",
       "      <td>9.0</td>\n",
       "      <td>7.3</td>\n",
       "      <td>NaN</td>\n",
       "      <td>NaN</td>\n",
       "      <td>NaN</td>\n",
       "      <td>NaN</td>\n",
       "      <td>NaN</td>\n",
       "      <td>NaN</td>\n",
       "    </tr>\n",
       "    <tr>\n",
       "      <th>539</th>\n",
       "      <td>540.0</td>\n",
       "      <td>540.0</td>\n",
       "      <td>0.0</td>\n",
       "      <td>27.0</td>\n",
       "      <td>50.0</td>\n",
       "      <td>150.000</td>\n",
       "      <td>22.200000</td>\n",
       "      <td>15.0</td>\n",
       "      <td>74.0</td>\n",
       "      <td>20.0</td>\n",
       "      <td>...</td>\n",
       "      <td>6.0</td>\n",
       "      <td>18.0</td>\n",
       "      <td>16.0</td>\n",
       "      <td>11.5</td>\n",
       "      <td>NaN</td>\n",
       "      <td>NaN</td>\n",
       "      <td>NaN</td>\n",
       "      <td>NaN</td>\n",
       "      <td>NaN</td>\n",
       "      <td>NaN</td>\n",
       "    </tr>\n",
       "    <tr>\n",
       "      <th>540</th>\n",
       "      <td>541.0</td>\n",
       "      <td>541.0</td>\n",
       "      <td>1.0</td>\n",
       "      <td>23.0</td>\n",
       "      <td>82.0</td>\n",
       "      <td>165.000</td>\n",
       "      <td>30.100000</td>\n",
       "      <td>13.0</td>\n",
       "      <td>80.0</td>\n",
       "      <td>20.0</td>\n",
       "      <td>...</td>\n",
       "      <td>10.0</td>\n",
       "      <td>19.0</td>\n",
       "      <td>18.0</td>\n",
       "      <td>6.9</td>\n",
       "      <td>NaN</td>\n",
       "      <td>NaN</td>\n",
       "      <td>NaN</td>\n",
       "      <td>NaN</td>\n",
       "      <td>NaN</td>\n",
       "      <td>NaN</td>\n",
       "    </tr>\n",
       "  </tbody>\n",
       "</table>\n",
       "<p>541 rows × 50 columns</p>\n",
       "</div>"
      ],
      "text/plain": [
       "     Sl. No  Patient File No.  PCOS (Y/N)   Age (yrs)  Weight (Kg)  \\\n",
       "0       1.0               1.0         0.0        28.0         44.6   \n",
       "1       2.0               2.0         0.0        36.0         65.0   \n",
       "2       3.0               3.0         1.0        33.0         68.8   \n",
       "3       4.0               4.0         0.0        37.0         65.0   \n",
       "4       5.0               5.0         0.0        25.0         52.0   \n",
       "..      ...               ...         ...         ...          ...   \n",
       "536   537.0             537.0         0.0        35.0         50.0   \n",
       "537   538.0             538.0         0.0        30.0         63.2   \n",
       "538   539.0             539.0         0.0        36.0         54.0   \n",
       "539   540.0             540.0         0.0        27.0         50.0   \n",
       "540   541.0             541.0         1.0        23.0         82.0   \n",
       "\n",
       "     Height(Cm)         BMI  Blood Group  Pulse rate(bpm)   RR (breaths/min)  \\\n",
       "0        152.000  19.300000         15.0              78.0              22.0   \n",
       "1        161.500  24.921163         15.0              74.0              20.0   \n",
       "2        165.000  25.270891         11.0              72.0              18.0   \n",
       "3        148.000  29.674945         13.0              72.0              20.0   \n",
       "4        161.000  20.060954         11.0              72.0              18.0   \n",
       "..           ...        ...          ...               ...               ...   \n",
       "536      164.592  18.500000         17.0              72.0              16.0   \n",
       "537      158.000  25.300000         15.0              72.0              18.0   \n",
       "538      152.000  23.400000         13.0              74.0              20.0   \n",
       "539      150.000  22.200000         15.0              74.0              20.0   \n",
       "540      165.000  30.100000         13.0              80.0              20.0   \n",
       "\n",
       "     ...  Follicle No. (R)  Avg. F size (L) (mm)  Avg. F size (R) (mm)  \\\n",
       "0    ...               3.0                  18.0                  18.0   \n",
       "1    ...               5.0                  15.0                  14.0   \n",
       "2    ...              15.0                  18.0                  20.0   \n",
       "3    ...               2.0                  15.0                  14.0   \n",
       "4    ...               4.0                  16.0                  14.0   \n",
       "..   ...               ...                   ...                   ...   \n",
       "536  ...               0.0                  17.5                  10.0   \n",
       "537  ...               7.0                  19.0                  18.0   \n",
       "538  ...               0.0                  18.0                   9.0   \n",
       "539  ...               6.0                  18.0                  16.0   \n",
       "540  ...              10.0                  19.0                  18.0   \n",
       "\n",
       "     Endometrium (mm)  Unnamed: 44  Sl. No_y  PCOS (Y/N)_y  \\\n",
       "0                 8.5          NaN       NaN           NaN   \n",
       "1                 3.7          NaN       NaN           NaN   \n",
       "2                10.0          NaN       NaN           NaN   \n",
       "3                 7.5          NaN       NaN           NaN   \n",
       "4                 7.0          NaN       NaN           NaN   \n",
       "..                ...          ...       ...           ...   \n",
       "536               6.7          NaN       NaN           NaN   \n",
       "537               8.2          NaN       NaN           NaN   \n",
       "538               7.3          NaN       NaN           NaN   \n",
       "539              11.5          NaN       NaN           NaN   \n",
       "540               6.9          NaN       NaN           NaN   \n",
       "\n",
       "      I   beta-HCG(mIU/mL)_y  II    beta-HCG(mIU/mL)_y  AMH(ng/mL)_y  \n",
       "0                        NaN                       NaN           NaN  \n",
       "1                        NaN                       NaN           NaN  \n",
       "2                        NaN                       NaN           NaN  \n",
       "3                        NaN                       NaN           NaN  \n",
       "4                        NaN                       NaN           NaN  \n",
       "..                       ...                       ...           ...  \n",
       "536                      NaN                       NaN           NaN  \n",
       "537                      NaN                       NaN           NaN  \n",
       "538                      NaN                       NaN           NaN  \n",
       "539                      NaN                       NaN           NaN  \n",
       "540                      NaN                       NaN           NaN  \n",
       "\n",
       "[541 rows x 50 columns]"
      ]
     },
     "execution_count": 11,
     "metadata": {},
     "output_type": "execute_result"
    }
   ],
   "source": [
    "data"
   ]
  },
  {
   "cell_type": "markdown",
   "id": "9f7f41a3",
   "metadata": {
    "id": "9f7f41a3"
   },
   "source": [
    "### dropping the repeatative feature"
   ]
  },
  {
   "cell_type": "code",
   "execution_count": 12,
   "id": "da732a23",
   "metadata": {
    "id": "da732a23"
   },
   "outputs": [],
   "source": [
    "data.drop(['Unnamed: 44', 'Sl. No_y', 'PCOS (Y/N)_y', '  I   beta-HCG(mIU/mL)_y','II    beta-HCG(mIU/mL)_y', 'AMH(ng/mL)_y'], axis=1, inplace= True)"
   ]
  },
  {
   "cell_type": "code",
   "execution_count": 13,
   "id": "5ebe84ab",
   "metadata": {
    "colab": {
     "base_uri": "https://localhost:8080/"
    },
    "id": "5ebe84ab",
    "outputId": "140f6462-7d90-4f90-880a-9fccf1b68432"
   },
   "outputs": [
    {
     "data": {
      "text/plain": [
       "(541, 44)"
      ]
     },
     "execution_count": 13,
     "metadata": {},
     "output_type": "execute_result"
    }
   ],
   "source": [
    "data.shape"
   ]
  },
  {
   "cell_type": "code",
   "execution_count": 14,
   "id": "7e49371f",
   "metadata": {
    "colab": {
     "base_uri": "https://localhost:8080/"
    },
    "id": "7e49371f",
    "outputId": "8dc60d48-2a8c-4f5e-8ca4-5feddda2923d"
   },
   "outputs": [
    {
     "data": {
      "text/plain": [
       "Index(['Sl. No', 'Patient File No.', 'PCOS (Y/N)', ' Age (yrs)', 'Weight (Kg)',\n",
       "       'Height(Cm) ', 'BMI', 'Blood Group', 'Pulse rate(bpm) ',\n",
       "       'RR (breaths/min)', 'Hb(g/dl)', 'Cycle(R/I)', 'Cycle length(days)',\n",
       "       'Marraige Status (Yrs)', 'Pregnant(Y/N)', 'No. of aborptions',\n",
       "       '  I   beta-HCG(mIU/mL)', 'II    beta-HCG(mIU/mL)', 'FSH(mIU/mL)',\n",
       "       'LH(mIU/mL)', 'FSH/LH', 'Hip(inch)', 'Waist(inch)', 'Waist:Hip Ratio',\n",
       "       'TSH (mIU/L)', 'AMH(ng/mL)', 'PRL(ng/mL)', 'Vit D3 (ng/mL)',\n",
       "       'PRG(ng/mL)', 'RBS(mg/dl)', 'Weight gain(Y/N)', 'hair growth(Y/N)',\n",
       "       'Skin darkening (Y/N)', 'Hair loss(Y/N)', 'Pimples(Y/N)',\n",
       "       'Fast food (Y/N)', 'Reg.Exercise(Y/N)', 'BP _Systolic (mmHg)',\n",
       "       'BP _Diastolic (mmHg)', 'Follicle No. (L)', 'Follicle No. (R)',\n",
       "       'Avg. F size (L) (mm)', 'Avg. F size (R) (mm)', 'Endometrium (mm)'],\n",
       "      dtype='object')"
      ]
     },
     "execution_count": 14,
     "metadata": {},
     "output_type": "execute_result"
    }
   ],
   "source": [
    "data.columns"
   ]
  },
  {
   "cell_type": "code",
   "execution_count": 15,
   "id": "577b65db",
   "metadata": {
    "colab": {
     "base_uri": "https://localhost:8080/"
    },
    "id": "577b65db",
    "outputId": "53311786-93af-4073-ea8a-f508ffa0a08a"
   },
   "outputs": [
    {
     "name": "stdout",
     "output_type": "stream",
     "text": [
      "<class 'pandas.core.frame.DataFrame'>\n",
      "Int64Index: 541 entries, 0 to 540\n",
      "Data columns (total 44 columns):\n",
      " #   Column                  Non-Null Count  Dtype  \n",
      "---  ------                  --------------  -----  \n",
      " 0   Sl. No                  541 non-null    float64\n",
      " 1   Patient File No.        541 non-null    float64\n",
      " 2   PCOS (Y/N)              541 non-null    float64\n",
      " 3    Age (yrs)              541 non-null    float64\n",
      " 4   Weight (Kg)             541 non-null    float64\n",
      " 5   Height(Cm)              541 non-null    float64\n",
      " 6   BMI                     541 non-null    float64\n",
      " 7   Blood Group             541 non-null    float64\n",
      " 8   Pulse rate(bpm)         541 non-null    float64\n",
      " 9   RR (breaths/min)        541 non-null    float64\n",
      " 10  Hb(g/dl)                541 non-null    float64\n",
      " 11  Cycle(R/I)              541 non-null    float64\n",
      " 12  Cycle length(days)      541 non-null    float64\n",
      " 13  Marraige Status (Yrs)   540 non-null    float64\n",
      " 14  Pregnant(Y/N)           541 non-null    float64\n",
      " 15  No. of aborptions       541 non-null    float64\n",
      " 16    I   beta-HCG(mIU/mL)  541 non-null    float64\n",
      " 17  II    beta-HCG(mIU/mL)  541 non-null    object \n",
      " 18  FSH(mIU/mL)             541 non-null    float64\n",
      " 19  LH(mIU/mL)              541 non-null    float64\n",
      " 20  FSH/LH                  541 non-null    float64\n",
      " 21  Hip(inch)               541 non-null    float64\n",
      " 22  Waist(inch)             541 non-null    float64\n",
      " 23  Waist:Hip Ratio         541 non-null    float64\n",
      " 24  TSH (mIU/L)             541 non-null    float64\n",
      " 25  AMH(ng/mL)              541 non-null    object \n",
      " 26  PRL(ng/mL)              541 non-null    float64\n",
      " 27  Vit D3 (ng/mL)          541 non-null    float64\n",
      " 28  PRG(ng/mL)              541 non-null    float64\n",
      " 29  RBS(mg/dl)              541 non-null    float64\n",
      " 30  Weight gain(Y/N)        541 non-null    float64\n",
      " 31  hair growth(Y/N)        541 non-null    float64\n",
      " 32  Skin darkening (Y/N)    541 non-null    float64\n",
      " 33  Hair loss(Y/N)          541 non-null    float64\n",
      " 34  Pimples(Y/N)            541 non-null    float64\n",
      " 35  Fast food (Y/N)         540 non-null    float64\n",
      " 36  Reg.Exercise(Y/N)       541 non-null    float64\n",
      " 37  BP _Systolic (mmHg)     541 non-null    float64\n",
      " 38  BP _Diastolic (mmHg)    541 non-null    float64\n",
      " 39  Follicle No. (L)        541 non-null    float64\n",
      " 40  Follicle No. (R)        541 non-null    float64\n",
      " 41  Avg. F size (L) (mm)    541 non-null    float64\n",
      " 42  Avg. F size (R) (mm)    541 non-null    float64\n",
      " 43  Endometrium (mm)        541 non-null    float64\n",
      "dtypes: float64(42), object(2)\n",
      "memory usage: 190.2+ KB\n"
     ]
    }
   ],
   "source": [
    "data.info()"
   ]
  },
  {
   "cell_type": "code",
   "execution_count": 16,
   "id": "702c4eb7",
   "metadata": {
    "id": "702c4eb7"
   },
   "outputs": [],
   "source": [
    "data[\"AMH(ng/mL)\"]= pd.to_numeric(data[\"AMH(ng/mL)\"], errors='coerce')\n",
    "data['II    beta-HCG(mIU/mL)']= pd.to_numeric(data['II    beta-HCG(mIU/mL)'], errors='coerce') #converting one datatype to another"
   ]
  },
  {
   "cell_type": "markdown",
   "id": "395271fe",
   "metadata": {
    "id": "395271fe"
   },
   "source": [
    "## checking for null value"
   ]
  },
  {
   "cell_type": "code",
   "execution_count": 17,
   "id": "de5ff767",
   "metadata": {
    "colab": {
     "base_uri": "https://localhost:8080/"
    },
    "id": "de5ff767",
    "outputId": "30962cb6-2f03-44dd-a9fa-a2beb9e9c614"
   },
   "outputs": [
    {
     "data": {
      "text/plain": [
       "Sl. No                    0\n",
       "Patient File No.          0\n",
       "PCOS (Y/N)                0\n",
       " Age (yrs)                0\n",
       "Weight (Kg)               0\n",
       "Height(Cm)                0\n",
       "BMI                       0\n",
       "Blood Group               0\n",
       "Pulse rate(bpm)           0\n",
       "RR (breaths/min)          0\n",
       "Hb(g/dl)                  0\n",
       "Cycle(R/I)                0\n",
       "Cycle length(days)        0\n",
       "Marraige Status (Yrs)     1\n",
       "Pregnant(Y/N)             0\n",
       "No. of aborptions         0\n",
       "  I   beta-HCG(mIU/mL)    0\n",
       "II    beta-HCG(mIU/mL)    1\n",
       "FSH(mIU/mL)               0\n",
       "LH(mIU/mL)                0\n",
       "FSH/LH                    0\n",
       "Hip(inch)                 0\n",
       "Waist(inch)               0\n",
       "Waist:Hip Ratio           0\n",
       "TSH (mIU/L)               0\n",
       "AMH(ng/mL)                1\n",
       "PRL(ng/mL)                0\n",
       "Vit D3 (ng/mL)            0\n",
       "PRG(ng/mL)                0\n",
       "RBS(mg/dl)                0\n",
       "Weight gain(Y/N)          0\n",
       "hair growth(Y/N)          0\n",
       "Skin darkening (Y/N)      0\n",
       "Hair loss(Y/N)            0\n",
       "Pimples(Y/N)              0\n",
       "Fast food (Y/N)           1\n",
       "Reg.Exercise(Y/N)         0\n",
       "BP _Systolic (mmHg)       0\n",
       "BP _Diastolic (mmHg)      0\n",
       "Follicle No. (L)          0\n",
       "Follicle No. (R)          0\n",
       "Avg. F size (L) (mm)      0\n",
       "Avg. F size (R) (mm)      0\n",
       "Endometrium (mm)          0\n",
       "dtype: int64"
      ]
     },
     "execution_count": 17,
     "metadata": {},
     "output_type": "execute_result"
    }
   ],
   "source": [
    "data.isnull().sum()"
   ]
  },
  {
   "cell_type": "code",
   "execution_count": 18,
   "id": "76a3c65a",
   "metadata": {
    "colab": {
     "base_uri": "https://localhost:8080/"
    },
    "id": "76a3c65a",
    "outputId": "fc21d6e1-035c-4087-8610-8df2924515fa"
   },
   "outputs": [
    {
     "data": {
      "text/plain": [
       "4"
      ]
     },
     "execution_count": 18,
     "metadata": {},
     "output_type": "execute_result"
    }
   ],
   "source": [
    "data.isnull().sum().sum()"
   ]
  },
  {
   "cell_type": "code",
   "execution_count": 19,
   "id": "c0d8a649",
   "metadata": {
    "colab": {
     "base_uri": "https://localhost:8080/"
    },
    "id": "c0d8a649",
    "outputId": "6019826f-f67e-487e-fa2b-f4ff2c03b365"
   },
   "outputs": [
    {
     "name": "stdout",
     "output_type": "stream",
     "text": [
      "no of null values-------------> 4\n"
     ]
    }
   ],
   "source": [
    "print(\"no of null values------------->\",data.isnull().sum().sum())"
   ]
  },
  {
   "cell_type": "code",
   "execution_count": 20,
   "id": "36827536",
   "metadata": {
    "id": "36827536"
   },
   "outputs": [],
   "source": [
    "## filling the null values with FILLNA method"
   ]
  },
  {
   "cell_type": "code",
   "execution_count": 21,
   "id": "d3fcfb71",
   "metadata": {
    "id": "d3fcfb71"
   },
   "outputs": [],
   "source": [
    "data['Marraige Status (Yrs)']= data['Marraige Status (Yrs)'].fillna(data['Marraige Status (Yrs)'].mode()[0])\n",
    "data['Fast food (Y/N)']= data['Fast food (Y/N)'].fillna(data['Fast food (Y/N)'].mode()[0])\n",
    "data['AMH(ng/mL)']= data['AMH(ng/mL)'].fillna(data['AMH(ng/mL)'].mode()[0])\n",
    "data['II    beta-HCG(mIU/mL)']= data['II    beta-HCG(mIU/mL)'].fillna(data['II    beta-HCG(mIU/mL)'].mode()[0])"
   ]
  },
  {
   "cell_type": "code",
   "execution_count": 22,
   "id": "71693147",
   "metadata": {
    "colab": {
     "base_uri": "https://localhost:8080/"
    },
    "id": "71693147",
    "outputId": "e8ca5cdc-ba2d-46bd-9749-14b91f9598e9"
   },
   "outputs": [
    {
     "name": "stdout",
     "output_type": "stream",
     "text": [
      "no of null values---after filling null values with fillna----------> 0\n"
     ]
    }
   ],
   "source": [
    "print(\"no of null values---after filling null values with fillna---------->\",data.isnull().sum().sum())"
   ]
  },
  {
   "cell_type": "markdown",
   "id": "25cfccb9",
   "metadata": {
    "id": "25cfccb9"
   },
   "source": [
    "## EDA"
   ]
  },
  {
   "cell_type": "code",
   "execution_count": null,
   "id": "bed1560e",
   "metadata": {
    "colab": {
     "base_uri": "https://localhost:8080/",
     "height": 1000
    },
    "id": "bed1560e",
    "outputId": "b881c6c8-529d-4ad3-8093-b26faa522598"
   },
   "outputs": [],
   "source": [
    "plt.figure(figsize=(30,30))\n",
    "sns.heatmap(data.corr(), cmap='coolwarm', annot = True)\n",
    "plt.show()"
   ]
  },
  {
   "cell_type": "code",
   "execution_count": null,
   "id": "2d2865a9",
   "metadata": {
    "colab": {
     "base_uri": "https://localhost:8080/"
    },
    "id": "2d2865a9",
    "outputId": "bfc33099-b577-4947-cf70-787421a4bcba"
   },
   "outputs": [],
   "source": [
    "data['PCOS (Y/N)'].value_counts()"
   ]
  },
  {
   "cell_type": "code",
   "execution_count": null,
   "id": "4aXBSZsRZwlp",
   "metadata": {
    "colab": {
     "base_uri": "https://localhost:8080/"
    },
    "id": "4aXBSZsRZwlp",
    "outputId": "56447d94-ed71-4bdd-aed0-493e675e1f24"
   },
   "outputs": [],
   "source": [
    "data.columns"
   ]
  },
  {
   "cell_type": "code",
   "execution_count": null,
   "id": "-vRHlimsZxmI",
   "metadata": {
    "id": "-vRHlimsZxmI"
   },
   "outputs": [],
   "source": []
  },
  {
   "cell_type": "code",
   "execution_count": null,
   "id": "68f575a1",
   "metadata": {
    "colab": {
     "base_uri": "https://localhost:8080/",
     "height": 299
    },
    "id": "68f575a1",
    "outputId": "48226234-cdf0-4092-a6f5-a017244f8161"
   },
   "outputs": [],
   "source": [
    "class_occur = data['PCOS (Y/N)'].value_counts()\n",
    "class_names = ['No','Yes']\n",
    "fig, ax = plt.subplots()\n",
    "ax.pie(class_occur, labels=class_names, autopct='%1.2f%%',\n",
    "        shadow=True, startangle=0, counterclock=False)\n",
    "\n",
    "ax.set_title('Class distribution')\n",
    "plt.show()\n",
    "print(\"# samples associated with PCOS N: {}\".format(class_occur[0]))\n",
    "print(\"# samples associated with PCOS Y: {}\".format(class_occur[1]))"
   ]
  },
  {
   "cell_type": "markdown",
   "id": "8fb8370a",
   "metadata": {
    "id": "8fb8370a"
   },
   "source": [
    "### Spliting the dataset Training and Testing"
   ]
  },
  {
   "cell_type": "code",
   "execution_count": null,
   "id": "0f4d5a33",
   "metadata": {
    "colab": {
     "base_uri": "https://localhost:8080/",
     "height": 557
    },
    "id": "0f4d5a33",
    "outputId": "8aa8cbe8-e5e1-48a7-e2b9-45bfafb9e0ca"
   },
   "outputs": [],
   "source": [
    "data"
   ]
  },
  {
   "cell_type": "code",
   "execution_count": null,
   "id": "HUUGKQ4JgOLK",
   "metadata": {
    "id": "HUUGKQ4JgOLK"
   },
   "outputs": [],
   "source": [
    "data = data.sample(frac=1).reset_index(drop=True)"
   ]
  },
  {
   "cell_type": "code",
   "execution_count": null,
   "id": "10a35781",
   "metadata": {
    "colab": {
     "base_uri": "https://localhost:8080/",
     "height": 488
    },
    "id": "10a35781",
    "outputId": "02cc641b-fa2d-413b-fdc0-6ab47f772b22"
   },
   "outputs": [],
   "source": [
    "\n",
    "Y= data['PCOS (Y/N)'] # target one\n",
    "X= data.drop('PCOS (Y/N)', axis=1)\n",
    "import re\n",
    "X = X.rename(columns = lambda x:re.sub('[^A-Za-z0-9_]+', '', x)) #to change the column headings\n",
    "X"
   ]
  },
  {
   "cell_type": "code",
   "execution_count": null,
   "id": "fnRNyjkkf9dd",
   "metadata": {
    "id": "fnRNyjkkf9dd"
   },
   "outputs": [],
   "source": [
    "X_train, X_test, Y_train, Y_test = X[:400], X[400:], Y[:400], Y[400:]"
   ]
  },
  {
   "cell_type": "code",
   "execution_count": null,
   "id": "8dcad3a1",
   "metadata": {
    "id": "8dcad3a1"
   },
   "outputs": [],
   "source": [
    "# SMOTE Algorithm"
   ]
  },
  {
   "cell_type": "code",
   "execution_count": null,
   "id": "47f39bc4",
   "metadata": {
    "id": "47f39bc4"
   },
   "outputs": [],
   "source": [
    "from imblearn.over_sampling import SMOTE\n",
    "sm = SMOTE(random_state=42)\n",
    "X_train, Y_train = sm.fit_resample(X_train, Y_train)"
   ]
  },
  {
   "cell_type": "markdown",
   "id": "dd931e4f",
   "metadata": {
    "id": "dd931e4f"
   },
   "source": [
    "# Applying Models"
   ]
  },
  {
   "cell_type": "code",
   "execution_count": null,
   "id": "aee03c89",
   "metadata": {},
   "outputs": [],
   "source": [
    "!pip install lightgbm"
   ]
  },
  {
   "cell_type": "code",
   "execution_count": null,
   "id": "f6d63b42",
   "metadata": {
    "id": "f6d63b42"
   },
   "outputs": [],
   "source": [
    "from sklearn.model_selection import cross_val_score\n",
    "import random, math\n",
    "from sklearn.model_selection import cross_val_score\n",
    "from sklearn.model_selection import RepeatedStratifiedKFold\n",
    "import matplotlib.pyplot as plt\n",
    "import seaborn as sns\n",
    "from sklearn.feature_selection import chi2, SelectKBest\n",
    "from lightgbm import LGBMClassifier\n",
    "from sklearn.metrics import accuracy_score"
   ]
  },
  {
   "cell_type": "markdown",
   "id": "0b91e05c",
   "metadata": {
    "id": "0b91e05c"
   },
   "source": [
    "# LoGISTIC REGRESSION "
   ]
  },
  {
   "cell_type": "code",
   "execution_count": null,
   "id": "aaca4738",
   "metadata": {
    "colab": {
     "base_uri": "https://localhost:8080/"
    },
    "id": "aaca4738",
    "outputId": "794b822f-4dc7-4390-a557-20848909e604"
   },
   "outputs": [],
   "source": [
    "from sklearn.linear_model import LogisticRegression\n",
    "\n",
    "lr = LogisticRegression()\n",
    "\n",
    "lr.fit(X_train,Y_train)\n",
    "\n",
    "Y_pred_lr = lr.predict(X_test)"
   ]
  },
  {
   "cell_type": "code",
   "execution_count": null,
   "id": "0f15d675",
   "metadata": {
    "colab": {
     "base_uri": "https://localhost:8080/"
    },
    "id": "0f15d675",
    "outputId": "b6839314-521e-47af-f0e7-2975f96bde48"
   },
   "outputs": [],
   "source": [
    "score_lr = round(accuracy_score(Y_pred_lr,Y_test)*100,2)\n",
    "\n",
    "print(\"Logistic Regression accuracy: \"+str(score_lr)+\" %\")"
   ]
  },
  {
   "cell_type": "code",
   "execution_count": null,
   "id": "d7ae4f69",
   "metadata": {
    "colab": {
     "base_uri": "https://localhost:8080/",
     "height": 442
    },
    "id": "d7ae4f69",
    "outputId": "13268ef4-4ded-45dc-f287-073c54598f8d"
   },
   "outputs": [],
   "source": [
    "from sklearn.metrics import confusion_matrix, classification_report \n",
    "cm = confusion_matrix(Y_test, Y_pred_lr) \n",
    "print(\"Confusion Matrix is:\\n\",cm)\n",
    "\n",
    "conf_matrix = pd.DataFrame(data = cm,  \n",
    "                           columns = ['Predicted:0', 'Predicted:1'],  \n",
    "                           index =['Actual:0', 'Actual:1']) \n",
    "plt.figure(figsize = (10, 6)) \n",
    "plt.title(\"confusion matrix for LoR\")\n",
    "sns.heatmap(conf_matrix, annot = True, fmt = 'd') \n",
    "plt.show() "
   ]
  },
  {
   "cell_type": "markdown",
   "id": "875433dd",
   "metadata": {
    "id": "875433dd"
   },
   "source": [
    "# GAUSSIAN NB"
   ]
  },
  {
   "cell_type": "code",
   "execution_count": null,
   "id": "39356d6f",
   "metadata": {
    "id": "39356d6f"
   },
   "outputs": [],
   "source": [
    "from sklearn.naive_bayes import GaussianNB\n",
    "\n",
    "nb = GaussianNB()\n",
    "\n",
    "nb.fit(X_train,Y_train)\n",
    "\n",
    "Y_pred_nb = nb.predict(X_test)"
   ]
  },
  {
   "cell_type": "code",
   "execution_count": null,
   "id": "154c8f84",
   "metadata": {
    "colab": {
     "base_uri": "https://localhost:8080/"
    },
    "id": "154c8f84",
    "outputId": "b131f613-3dc1-4863-82ce-f5b6ea89f929"
   },
   "outputs": [],
   "source": [
    "Y_pred_nb.shape"
   ]
  },
  {
   "cell_type": "code",
   "execution_count": null,
   "id": "d93a47ef",
   "metadata": {
    "colab": {
     "base_uri": "https://localhost:8080/"
    },
    "id": "d93a47ef",
    "outputId": "45685aba-fc5e-423e-9b5d-897a4f3add3d"
   },
   "outputs": [],
   "source": [
    "score_nb = round(accuracy_score(Y_pred_nb,Y_test)*100,2)\n",
    "\n",
    "print(\"Naive Bayes accuracy: \"+str(score_nb)+\" %\")"
   ]
  },
  {
   "cell_type": "code",
   "execution_count": null,
   "id": "474a6b4a",
   "metadata": {
    "colab": {
     "base_uri": "https://localhost:8080/",
     "height": 442
    },
    "id": "474a6b4a",
    "outputId": "c458aca2-f66b-49a6-c2bd-8caa349d6aeb"
   },
   "outputs": [],
   "source": [
    "from sklearn.metrics import confusion_matrix, classification_report \n",
    "cm = confusion_matrix(Y_test, Y_pred_nb) \n",
    "print(\"Confusion Matrix is:\\n\",cm)\n",
    "\n",
    "conf_matrix = pd.DataFrame(data = cm,  \n",
    "                           columns = ['Predicted:0', 'Predicted:1'],  \n",
    "                           index =['Actual:0', 'Actual:1']) \n",
    "plt.figure(figsize = (10, 6)) \n",
    "plt.title(\"confusion matrix for NB\")\n",
    "sns.heatmap(conf_matrix, annot = True, fmt = 'd') \n",
    "plt.show() "
   ]
  },
  {
   "cell_type": "markdown",
   "id": "5b162073",
   "metadata": {
    "id": "5b162073"
   },
   "source": [
    "# KNN"
   ]
  },
  {
   "cell_type": "code",
   "execution_count": null,
   "id": "6219a6b9",
   "metadata": {
    "id": "6219a6b9"
   },
   "outputs": [],
   "source": [
    "from sklearn.neighbors import KNeighborsClassifier\n",
    "\n",
    "knn = KNeighborsClassifier(n_neighbors=7)\n",
    "knn.fit(X_train,Y_train)\n",
    "Y_pred_knn=knn.predict(X_test)"
   ]
  },
  {
   "cell_type": "code",
   "execution_count": null,
   "id": "557b41f6",
   "metadata": {
    "colab": {
     "base_uri": "https://localhost:8080/"
    },
    "id": "557b41f6",
    "outputId": "36fabe63-ec87-4cb7-b287-dc83c33023d6"
   },
   "outputs": [],
   "source": [
    "Y_pred_knn.shape"
   ]
  },
  {
   "cell_type": "code",
   "execution_count": null,
   "id": "23daa349",
   "metadata": {
    "colab": {
     "base_uri": "https://localhost:8080/"
    },
    "id": "23daa349",
    "outputId": "e8005f6c-abae-4d9a-d6bd-7fb8b8ecf32a"
   },
   "outputs": [],
   "source": [
    "score_knn = round(accuracy_score(Y_pred_knn,Y_test)*100,2)\n",
    "\n",
    "print(\"KNN accuracy: \"+str(round(accuracy_score(Y_pred_knn,Y_test)*100,2))+\" %\")"
   ]
  },
  {
   "cell_type": "code",
   "execution_count": null,
   "id": "d6d49479",
   "metadata": {
    "colab": {
     "base_uri": "https://localhost:8080/",
     "height": 442
    },
    "id": "d6d49479",
    "outputId": "5ac37786-e472-49e1-b381-b87479630d70"
   },
   "outputs": [],
   "source": [
    "from sklearn.metrics import confusion_matrix, classification_report \n",
    "cm = confusion_matrix(Y_test, Y_pred_knn) \n",
    "print(\"Confusion Matrix is:\\n\",cm)\n",
    "\n",
    "conf_matrix = pd.DataFrame(data = cm,  \n",
    "                           columns = ['Predicted:0', 'Predicted:1'],  \n",
    "                           index =['Actual:0', 'Actual:1']) \n",
    "plt.figure(figsize = (10, 6)) \n",
    "plt.title(\"confusion matrix for KNN\")\n",
    "sns.heatmap(conf_matrix, annot = True, fmt = 'd') \n",
    "plt.show() "
   ]
  },
  {
   "cell_type": "markdown",
   "id": "3494b66d",
   "metadata": {
    "id": "3494b66d"
   },
   "source": [
    "# DECISION TREE"
   ]
  },
  {
   "cell_type": "code",
   "execution_count": null,
   "id": "31d06f95",
   "metadata": {
    "id": "31d06f95"
   },
   "outputs": [],
   "source": [
    "from sklearn.tree import DecisionTreeClassifier\n",
    "\n",
    "max_accuracy = 0\n",
    "\n",
    "\n",
    "for x in range(200):\n",
    "    dt = DecisionTreeClassifier(random_state=x)\n",
    "    dt.fit(X_train,Y_train)\n",
    "    Y_pred_dt = dt.predict(X_test)\n",
    "    current_accuracy = round(accuracy_score(Y_pred_dt,Y_test)*100,2)\n",
    "    if(current_accuracy>max_accuracy):\n",
    "        max_accuracy = current_accuracy\n",
    "        best_x = x\n",
    "        \n",
    "#print(max_accuracy)\n",
    "#print(best_x)\n",
    "\n",
    "\n",
    "dt = DecisionTreeClassifier(random_state=best_x)\n",
    "dt.fit(X_train,Y_train)\n",
    "Y_pred_dt = dt.predict(X_test)"
   ]
  },
  {
   "cell_type": "code",
   "execution_count": null,
   "id": "9bb2fd71",
   "metadata": {
    "colab": {
     "base_uri": "https://localhost:8080/"
    },
    "id": "9bb2fd71",
    "outputId": "2b67b9db-6c72-4b8b-9c61-54610fda1407"
   },
   "outputs": [],
   "source": [
    "print(Y_pred_dt.shape)"
   ]
  },
  {
   "cell_type": "code",
   "execution_count": null,
   "id": "7e82bd0a",
   "metadata": {
    "colab": {
     "base_uri": "https://localhost:8080/"
    },
    "id": "7e82bd0a",
    "outputId": "148d412d-182d-45e9-b08f-ce418bff72be"
   },
   "outputs": [],
   "source": [
    "score_dt = round(accuracy_score(Y_pred_dt,Y_test)*100,2)\n",
    "\n",
    "print(\"Decision Tree accuracy: \"+str(score_dt)+\" %\")"
   ]
  },
  {
   "cell_type": "code",
   "execution_count": null,
   "id": "8d2d54ed",
   "metadata": {
    "colab": {
     "base_uri": "https://localhost:8080/",
     "height": 442
    },
    "id": "8d2d54ed",
    "outputId": "66f965c8-aa1c-4684-be22-7c97828565b0"
   },
   "outputs": [],
   "source": [
    "from sklearn.metrics import confusion_matrix, classification_report \n",
    "cm = confusion_matrix(Y_test, Y_pred_dt) \n",
    "print(\"Confusion Matrix is:\\n\",cm)\n",
    "\n",
    "conf_matrix = pd.DataFrame(data = cm,  \n",
    "                           columns = ['Predicted:0', 'Predicted:1'],  \n",
    "                           index =['Actual:0', 'Actual:1']) \n",
    "plt.figure(figsize = (10, 6)) \n",
    "plt.title(\"confusion matrix for DT\")\n",
    "sns.heatmap(conf_matrix, annot = True, fmt = 'd') \n",
    "plt.show() "
   ]
  },
  {
   "cell_type": "markdown",
   "id": "43b0261b",
   "metadata": {
    "id": "43b0261b"
   },
   "source": [
    "## RANDOM FOREST"
   ]
  },
  {
   "cell_type": "code",
   "execution_count": null,
   "id": "19e6fa28",
   "metadata": {
    "id": "19e6fa28"
   },
   "outputs": [],
   "source": [
    "from sklearn.ensemble import RandomForestClassifier\n",
    "\n",
    "max_accuracy = 0\n",
    "\n",
    "\n",
    "\n",
    "rf = RandomForestClassifier(n_estimators=1000,max_depth=9)\n",
    "rf.fit(X_train,Y_train)\n",
    "Y_pred_rf = rf.predict(X_test)\n",
    "current_accuracy = round(accuracy_score(Y_pred_rf,Y_test)*100,2)\n",
    "\n",
    "\n",
    "rf = RandomForestClassifier(random_state=best_x)\n",
    "rf.fit(X_train,Y_train)\n",
    "Y_pred_rf = rf.predict(X_test)"
   ]
  },
  {
   "cell_type": "code",
   "execution_count": null,
   "id": "f9b24209",
   "metadata": {
    "colab": {
     "base_uri": "https://localhost:8080/"
    },
    "id": "f9b24209",
    "outputId": "1695da50-542d-49b7-e73d-6bf1d86dc18f"
   },
   "outputs": [],
   "source": [
    "Y_pred_rf.shape"
   ]
  },
  {
   "cell_type": "code",
   "execution_count": null,
   "id": "bcbb3aca",
   "metadata": {
    "colab": {
     "base_uri": "https://localhost:8080/"
    },
    "id": "bcbb3aca",
    "outputId": "ea38bd2d-7f3e-4272-9cbe-83ba9e0d22af"
   },
   "outputs": [],
   "source": [
    "score_rf = round(accuracy_score(Y_pred_rf,Y_test)*100,2)\n",
    "\n",
    "print(\"Random forest accuracy: \"+str(score_rf)+\" %\")"
   ]
  },
  {
   "cell_type": "code",
   "execution_count": null,
   "id": "7c169270",
   "metadata": {
    "colab": {
     "base_uri": "https://localhost:8080/",
     "height": 442
    },
    "id": "7c169270",
    "outputId": "5c16b89b-6e6a-4d23-a3eb-8475daf4f307"
   },
   "outputs": [],
   "source": [
    "from sklearn.metrics import confusion_matrix, classification_report \n",
    "cm = confusion_matrix(Y_test, Y_pred_rf) \n",
    "print(\"Confusion Matrix is:\\n\",cm)\n",
    "\n",
    "conf_matrix = pd.DataFrame(data = cm,  \n",
    "                           columns = ['Predicted:0', 'Predicted:1'],  \n",
    "                           index =['Actual:0', 'Actual:1']) \n",
    "plt.figure(figsize = (10, 6)) \n",
    "plt.title(\"confusion matrix for RF\")\n",
    "sns.heatmap(conf_matrix, annot = True, fmt = 'd') \n",
    "plt.show() "
   ]
  },
  {
   "cell_type": "markdown",
   "id": "b43cda53",
   "metadata": {
    "id": "b43cda53"
   },
   "source": [
    "## Classification report for each model"
   ]
  },
  {
   "cell_type": "markdown",
   "id": "42fe465b",
   "metadata": {
    "id": "42fe465b"
   },
   "source": [
    "# comparsion of algorithms"
   ]
  },
  {
   "cell_type": "code",
   "execution_count": null,
   "id": "2e35a6c8",
   "metadata": {
    "colab": {
     "base_uri": "https://localhost:8080/",
     "height": 590
    },
    "id": "2e35a6c8",
    "outputId": "c16e7c93-40e5-4ea2-961a-ade48d13cf71"
   },
   "outputs": [],
   "source": [
    "sns.set(rc={'figure.figsize':(15,8)})\n",
    "\n",
    "sns.barplot([\"Random Forest\", \"Decision Tree\", \"Logistic Regression\", \n",
    "            \"Naive Bayes\", \"K-Nearest Neighbors\"],\n",
    "            [score_rf, score_dt, score_lr, score_nb, score_knn])"
   ]
  },
  {
   "cell_type": "code",
   "execution_count": null,
   "id": "9f2a147e",
   "metadata": {
    "id": "9f2a147e"
   },
   "outputs": [],
   "source": []
  },
  {
   "cell_type": "code",
   "execution_count": null,
   "id": "130ff641",
   "metadata": {
    "id": "130ff641"
   },
   "outputs": [],
   "source": []
  },
  {
   "cell_type": "code",
   "execution_count": null,
   "id": "80946ab2",
   "metadata": {},
   "outputs": [],
   "source": []
  },
  {
   "cell_type": "code",
   "execution_count": null,
   "id": "54feb52a",
   "metadata": {},
   "outputs": [],
   "source": []
  }
 ],
 "metadata": {
  "colab": {
   "name": "womeninfertility (1).ipynb",
   "provenance": []
  },
  "kernelspec": {
   "display_name": "Python 3 (ipykernel)",
   "language": "python",
   "name": "python3"
  },
  "language_info": {
   "codemirror_mode": {
    "name": "ipython",
    "version": 3
   },
   "file_extension": ".py",
   "mimetype": "text/x-python",
   "name": "python",
   "nbconvert_exporter": "python",
   "pygments_lexer": "ipython3",
   "version": "3.9.12"
  }
 },
 "nbformat": 4,
 "nbformat_minor": 5
}
